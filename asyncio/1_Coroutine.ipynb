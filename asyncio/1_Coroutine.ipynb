{
 "cells": [
  {
   "cell_type": "code",
   "execution_count": 1,
   "id": "ecf99501",
   "metadata": {},
   "outputs": [],
   "source": [
    "import inspect\n",
    "import asyncio"
   ]
  },
  {
   "cell_type": "markdown",
   "id": "f69cc94c",
   "metadata": {},
   "source": [
    "### about async keyword"
   ]
  },
  {
   "cell_type": "code",
   "execution_count": 2,
   "id": "47d99fcd",
   "metadata": {},
   "outputs": [
    {
     "data": {
      "text/plain": [
       "function"
      ]
     },
     "execution_count": 2,
     "metadata": {},
     "output_type": "execute_result"
    }
   ],
   "source": [
    "async def f():\n",
    "    return 123\n",
    "\n",
    "type(f)"
   ]
  },
  {
   "cell_type": "code",
   "execution_count": 3,
   "id": "9f3d5a44",
   "metadata": {},
   "outputs": [
    {
     "data": {
      "text/plain": [
       "(True, False)"
      ]
     },
     "execution_count": 3,
     "metadata": {},
     "output_type": "execute_result"
    }
   ],
   "source": [
    "inspect.iscoroutinefunction(f), inspect.iscoroutine(f)"
   ]
  },
  {
   "cell_type": "code",
   "execution_count": 4,
   "id": "d36d1c95",
   "metadata": {},
   "outputs": [
    {
     "data": {
      "text/plain": [
       "function"
      ]
     },
     "execution_count": 4,
     "metadata": {},
     "output_type": "execute_result"
    }
   ],
   "source": [
    "def g():\n",
    "    yield 123\n",
    "    \n",
    "type(g)"
   ]
  },
  {
   "cell_type": "code",
   "execution_count": 5,
   "id": "e5810831",
   "metadata": {},
   "outputs": [
    {
     "data": {
      "text/plain": [
       "generator"
      ]
     },
     "execution_count": 5,
     "metadata": {},
     "output_type": "execute_result"
    }
   ],
   "source": [
    "gen = g()\n",
    "type(gen)"
   ]
  },
  {
   "cell_type": "code",
   "execution_count": 6,
   "id": "a2eed884",
   "metadata": {},
   "outputs": [
    {
     "data": {
      "text/plain": [
       "coroutine"
      ]
     },
     "execution_count": 6,
     "metadata": {},
     "output_type": "execute_result"
    }
   ],
   "source": [
    "coro = f()\n",
    "\n",
    "type(coro)"
   ]
  },
  {
   "cell_type": "code",
   "execution_count": 7,
   "id": "a0a72f35",
   "metadata": {},
   "outputs": [
    {
     "data": {
      "text/plain": [
       "True"
      ]
     },
     "execution_count": 7,
     "metadata": {},
     "output_type": "execute_result"
    }
   ],
   "source": [
    "inspect.iscoroutine(coro)"
   ]
  },
  {
   "cell_type": "code",
   "execution_count": 8,
   "id": "3186cfbc",
   "metadata": {},
   "outputs": [
    {
     "name": "stdout",
     "output_type": "stream",
     "text": [
      "Return: 123\n"
     ]
    },
    {
     "name": "stderr",
     "output_type": "stream",
     "text": [
      "/var/folders/bn/vgm5hp5s4rsbn23l77r5gy640000gn/T/ipykernel_19782/4285137278.py:1: RuntimeWarning: coroutine 'f' was never awaited\n",
      "  coro = f()\n",
      "RuntimeWarning: Enable tracemalloc to get the object allocation traceback\n"
     ]
    }
   ],
   "source": [
    "coro = f()\n",
    "\n",
    "try:\n",
    "    coro.send(None)\n",
    "except StopIteration as e:\n",
    "    print('Return:', e.value)"
   ]
  },
  {
   "cell_type": "markdown",
   "id": "c15dee15",
   "metadata": {},
   "source": [
    "### about await keyword"
   ]
  },
  {
   "cell_type": "code",
   "execution_count": 9,
   "id": "5d897623",
   "metadata": {},
   "outputs": [],
   "source": [
    "async def f():\n",
    "    await asyncio.sleep(0)\n",
    "    return 123\n",
    "\n",
    "async def main():\n",
    "    result = await f()\n",
    "    return result"
   ]
  },
  {
   "cell_type": "code",
   "execution_count": 10,
   "id": "7ac985db",
   "metadata": {},
   "outputs": [],
   "source": [
    "coro1 = main()"
   ]
  },
  {
   "cell_type": "code",
   "execution_count": 11,
   "id": "a83dde07",
   "metadata": {},
   "outputs": [],
   "source": [
    "try:\n",
    "    coro1.send(None)\n",
    "except StopIteration as e:\n",
    "    print(e.value)"
   ]
  },
  {
   "cell_type": "code",
   "execution_count": 12,
   "id": "b3686ce6",
   "metadata": {},
   "outputs": [],
   "source": [
    "coro2 = f()"
   ]
  },
  {
   "cell_type": "code",
   "execution_count": 13,
   "id": "86293cb5",
   "metadata": {},
   "outputs": [],
   "source": [
    "coro2.send(None)"
   ]
  },
  {
   "cell_type": "code",
   "execution_count": 14,
   "id": "bdd024b0",
   "metadata": {
    "scrolled": true
   },
   "outputs": [
    {
     "name": "stdout",
     "output_type": "stream",
     "text": [
      "123\n"
     ]
    }
   ],
   "source": [
    "try:\n",
    "    coro2.send(None)\n",
    "except StopIteration as e:\n",
    "    print(e.value)"
   ]
  },
  {
   "cell_type": "code",
   "execution_count": 15,
   "id": "201b3faa",
   "metadata": {},
   "outputs": [
    {
     "ename": "Exception",
     "evalue": "wowowo",
     "output_type": "error",
     "traceback": [
      "\u001b[0;31m---------------------------------------------------------------------------\u001b[0m",
      "\u001b[0;31mException\u001b[0m                                 Traceback (most recent call last)",
      "\u001b[0;32m/var/folders/bn/vgm5hp5s4rsbn23l77r5gy640000gn/T/ipykernel_19782/2133461.py\u001b[0m in \u001b[0;36m<module>\u001b[0;34m\u001b[0m\n\u001b[1;32m      1\u001b[0m \u001b[0mcoro\u001b[0m \u001b[0;34m=\u001b[0m \u001b[0mf\u001b[0m\u001b[0;34m(\u001b[0m\u001b[0;34m)\u001b[0m\u001b[0;34m\u001b[0m\u001b[0;34m\u001b[0m\u001b[0m\n\u001b[1;32m      2\u001b[0m \u001b[0mcoro\u001b[0m\u001b[0;34m.\u001b[0m\u001b[0msend\u001b[0m\u001b[0;34m(\u001b[0m\u001b[0;32mNone\u001b[0m\u001b[0;34m)\u001b[0m\u001b[0;34m\u001b[0m\u001b[0;34m\u001b[0m\u001b[0m\n\u001b[0;32m----> 3\u001b[0;31m \u001b[0mcoro\u001b[0m\u001b[0;34m.\u001b[0m\u001b[0mthrow\u001b[0m\u001b[0;34m(\u001b[0m\u001b[0mException\u001b[0m\u001b[0;34m,\u001b[0m \u001b[0;34m'wowowo'\u001b[0m\u001b[0;34m)\u001b[0m\u001b[0;34m\u001b[0m\u001b[0;34m\u001b[0m\u001b[0m\n\u001b[0m",
      "\u001b[0;32m/var/folders/bn/vgm5hp5s4rsbn23l77r5gy640000gn/T/ipykernel_19782/2844019161.py\u001b[0m in \u001b[0;36mf\u001b[0;34m()\u001b[0m\n\u001b[1;32m      1\u001b[0m \u001b[0;32masync\u001b[0m \u001b[0;32mdef\u001b[0m \u001b[0mf\u001b[0m\u001b[0;34m(\u001b[0m\u001b[0;34m)\u001b[0m\u001b[0;34m:\u001b[0m\u001b[0;34m\u001b[0m\u001b[0;34m\u001b[0m\u001b[0m\n\u001b[0;32m----> 2\u001b[0;31m     \u001b[0;32mawait\u001b[0m \u001b[0masyncio\u001b[0m\u001b[0;34m.\u001b[0m\u001b[0msleep\u001b[0m\u001b[0;34m(\u001b[0m\u001b[0;36m0\u001b[0m\u001b[0;34m)\u001b[0m\u001b[0;34m\u001b[0m\u001b[0;34m\u001b[0m\u001b[0m\n\u001b[0m\u001b[1;32m      3\u001b[0m     \u001b[0;32mreturn\u001b[0m \u001b[0;36m123\u001b[0m\u001b[0;34m\u001b[0m\u001b[0;34m\u001b[0m\u001b[0m\n\u001b[1;32m      4\u001b[0m \u001b[0;34m\u001b[0m\u001b[0m\n\u001b[1;32m      5\u001b[0m \u001b[0;32masync\u001b[0m \u001b[0;32mdef\u001b[0m \u001b[0mmain\u001b[0m\u001b[0;34m(\u001b[0m\u001b[0;34m)\u001b[0m\u001b[0;34m:\u001b[0m\u001b[0;34m\u001b[0m\u001b[0;34m\u001b[0m\u001b[0m\n",
      "\u001b[0;32m/opt/homebrew/Cellar/python@3.9/3.9.7_1/Frameworks/Python.framework/Versions/3.9/lib/python3.9/asyncio/tasks.py\u001b[0m in \u001b[0;36msleep\u001b[0;34m(delay, result, loop)\u001b[0m\n\u001b[1;32m    642\u001b[0m \u001b[0;34m\u001b[0m\u001b[0m\n\u001b[1;32m    643\u001b[0m     \u001b[0;32mif\u001b[0m \u001b[0mdelay\u001b[0m \u001b[0;34m<=\u001b[0m \u001b[0;36m0\u001b[0m\u001b[0;34m:\u001b[0m\u001b[0;34m\u001b[0m\u001b[0;34m\u001b[0m\u001b[0m\n\u001b[0;32m--> 644\u001b[0;31m         \u001b[0;32mawait\u001b[0m \u001b[0m__sleep0\u001b[0m\u001b[0;34m(\u001b[0m\u001b[0;34m)\u001b[0m\u001b[0;34m\u001b[0m\u001b[0;34m\u001b[0m\u001b[0m\n\u001b[0m\u001b[1;32m    645\u001b[0m         \u001b[0;32mreturn\u001b[0m \u001b[0mresult\u001b[0m\u001b[0;34m\u001b[0m\u001b[0;34m\u001b[0m\u001b[0m\n\u001b[1;32m    646\u001b[0m \u001b[0;34m\u001b[0m\u001b[0m\n",
      "\u001b[0;32m/opt/homebrew/Cellar/python@3.9/3.9.7_1/Frameworks/Python.framework/Versions/3.9/lib/python3.9/asyncio/tasks.py\u001b[0m in \u001b[0;36m__sleep0\u001b[0;34m()\u001b[0m\n\u001b[1;32m    631\u001b[0m     \u001b[0minstead\u001b[0m \u001b[0mof\u001b[0m \u001b[0mcreating\u001b[0m \u001b[0ma\u001b[0m \u001b[0mFuture\u001b[0m \u001b[0mobject\u001b[0m\u001b[0;34m.\u001b[0m\u001b[0;34m\u001b[0m\u001b[0;34m\u001b[0m\u001b[0m\n\u001b[1;32m    632\u001b[0m     \"\"\"\n\u001b[0;32m--> 633\u001b[0;31m     \u001b[0;32myield\u001b[0m\u001b[0;34m\u001b[0m\u001b[0;34m\u001b[0m\u001b[0m\n\u001b[0m\u001b[1;32m    634\u001b[0m \u001b[0;34m\u001b[0m\u001b[0m\n\u001b[1;32m    635\u001b[0m \u001b[0;34m\u001b[0m\u001b[0m\n",
      "\u001b[0;31mException\u001b[0m: wowowo"
     ]
    }
   ],
   "source": [
    "coro = f()\n",
    "coro.send(None)\n",
    "coro.throw(Exception, 'wowowo')"
   ]
  },
  {
   "cell_type": "code",
   "execution_count": 16,
   "id": "345de1aa",
   "metadata": {},
   "outputs": [],
   "source": [
    "async def f():\n",
    "    try:\n",
    "        while True: await asyncio.sleep(0)\n",
    "    except asyncio.CancelledError:\n",
    "        print('I was cancelled!')\n",
    "    else:\n",
    "        return 111"
   ]
  },
  {
   "cell_type": "code",
   "execution_count": 17,
   "id": "370ef6c8",
   "metadata": {},
   "outputs": [
    {
     "name": "stdout",
     "output_type": "stream",
     "text": [
      "I was cancelled!\n"
     ]
    },
    {
     "ename": "StopIteration",
     "evalue": "",
     "output_type": "error",
     "traceback": [
      "\u001b[0;31m---------------------------------------------------------------------------\u001b[0m",
      "\u001b[0;31mStopIteration\u001b[0m                             Traceback (most recent call last)",
      "\u001b[0;32m/var/folders/bn/vgm5hp5s4rsbn23l77r5gy640000gn/T/ipykernel_19782/1127095162.py\u001b[0m in \u001b[0;36m<module>\u001b[0;34m\u001b[0m\n\u001b[1;32m      2\u001b[0m \u001b[0mcoro\u001b[0m\u001b[0;34m.\u001b[0m\u001b[0msend\u001b[0m\u001b[0;34m(\u001b[0m\u001b[0;32mNone\u001b[0m\u001b[0;34m)\u001b[0m\u001b[0;34m\u001b[0m\u001b[0;34m\u001b[0m\u001b[0m\n\u001b[1;32m      3\u001b[0m \u001b[0mcoro\u001b[0m\u001b[0;34m.\u001b[0m\u001b[0msend\u001b[0m\u001b[0;34m(\u001b[0m\u001b[0;32mNone\u001b[0m\u001b[0;34m)\u001b[0m\u001b[0;34m\u001b[0m\u001b[0;34m\u001b[0m\u001b[0m\n\u001b[0;32m----> 4\u001b[0;31m \u001b[0mcoro\u001b[0m\u001b[0;34m.\u001b[0m\u001b[0mthrow\u001b[0m\u001b[0;34m(\u001b[0m\u001b[0masyncio\u001b[0m\u001b[0;34m.\u001b[0m\u001b[0mCancelledError\u001b[0m\u001b[0;34m)\u001b[0m\u001b[0;34m\u001b[0m\u001b[0;34m\u001b[0m\u001b[0m\n\u001b[0m",
      "\u001b[0;31mStopIteration\u001b[0m: "
     ]
    }
   ],
   "source": [
    "coro = f()\n",
    "coro.send(None)\n",
    "coro.send(None)\n",
    "coro.throw(asyncio.CancelledError)"
   ]
  },
  {
   "cell_type": "code",
   "execution_count": 18,
   "id": "1599c75e",
   "metadata": {},
   "outputs": [],
   "source": [
    "async def f():\n",
    "    try:\n",
    "        while True: await asyncio.sleep(0)\n",
    "    except asyncio.CancelledError:\n",
    "        print('Nope!!')\n",
    "        while True: await asyncio.sleep(0)\n",
    "    else:\n",
    "        return 111"
   ]
  },
  {
   "cell_type": "code",
   "execution_count": 19,
   "id": "b57e56ad",
   "metadata": {},
   "outputs": [
    {
     "name": "stdout",
     "output_type": "stream",
     "text": [
      "Nope!!\n"
     ]
    }
   ],
   "source": [
    "coro = f()\n",
    "coro.send(None)\n",
    "coro.throw(asyncio.CancelledError)"
   ]
  },
  {
   "cell_type": "code",
   "execution_count": 20,
   "id": "1a71f617",
   "metadata": {},
   "outputs": [],
   "source": [
    "coro.send(None)"
   ]
  },
  {
   "cell_type": "code",
   "execution_count": 21,
   "id": "e1db5b81",
   "metadata": {},
   "outputs": [],
   "source": [
    "async def f():\n",
    "    await asyncio.sleep(0)\n",
    "    return 111"
   ]
  },
  {
   "cell_type": "code",
   "execution_count": 22,
   "id": "68bf64f4",
   "metadata": {},
   "outputs": [
    {
     "ename": "RuntimeError",
     "evalue": "This event loop is already running",
     "output_type": "error",
     "traceback": [
      "\u001b[0;31m---------------------------------------------------------------------------\u001b[0m",
      "\u001b[0;31mRuntimeError\u001b[0m                              Traceback (most recent call last)",
      "\u001b[0;32m/var/folders/bn/vgm5hp5s4rsbn23l77r5gy640000gn/T/ipykernel_19782/43668422.py\u001b[0m in \u001b[0;36m<module>\u001b[0;34m\u001b[0m\n\u001b[1;32m      2\u001b[0m \u001b[0mcoro\u001b[0m \u001b[0;34m=\u001b[0m \u001b[0mf\u001b[0m\u001b[0;34m(\u001b[0m\u001b[0;34m)\u001b[0m\u001b[0;34m\u001b[0m\u001b[0;34m\u001b[0m\u001b[0m\n\u001b[1;32m      3\u001b[0m \u001b[0;34m\u001b[0m\u001b[0m\n\u001b[0;32m----> 4\u001b[0;31m \u001b[0mloop\u001b[0m\u001b[0;34m.\u001b[0m\u001b[0mrun_until_complete\u001b[0m\u001b[0;34m(\u001b[0m\u001b[0mcoro\u001b[0m\u001b[0;34m)\u001b[0m\u001b[0;34m\u001b[0m\u001b[0;34m\u001b[0m\u001b[0m\n\u001b[0m",
      "\u001b[0;32m/opt/homebrew/Cellar/python@3.9/3.9.7_1/Frameworks/Python.framework/Versions/3.9/lib/python3.9/asyncio/base_events.py\u001b[0m in \u001b[0;36mrun_until_complete\u001b[0;34m(self, future)\u001b[0m\n\u001b[1;32m    616\u001b[0m         \"\"\"\n\u001b[1;32m    617\u001b[0m         \u001b[0mself\u001b[0m\u001b[0;34m.\u001b[0m\u001b[0m_check_closed\u001b[0m\u001b[0;34m(\u001b[0m\u001b[0;34m)\u001b[0m\u001b[0;34m\u001b[0m\u001b[0;34m\u001b[0m\u001b[0m\n\u001b[0;32m--> 618\u001b[0;31m         \u001b[0mself\u001b[0m\u001b[0;34m.\u001b[0m\u001b[0m_check_running\u001b[0m\u001b[0;34m(\u001b[0m\u001b[0;34m)\u001b[0m\u001b[0;34m\u001b[0m\u001b[0;34m\u001b[0m\u001b[0m\n\u001b[0m\u001b[1;32m    619\u001b[0m \u001b[0;34m\u001b[0m\u001b[0m\n\u001b[1;32m    620\u001b[0m         \u001b[0mnew_task\u001b[0m \u001b[0;34m=\u001b[0m \u001b[0;32mnot\u001b[0m \u001b[0mfutures\u001b[0m\u001b[0;34m.\u001b[0m\u001b[0misfuture\u001b[0m\u001b[0;34m(\u001b[0m\u001b[0mfuture\u001b[0m\u001b[0;34m)\u001b[0m\u001b[0;34m\u001b[0m\u001b[0;34m\u001b[0m\u001b[0m\n",
      "\u001b[0;32m/opt/homebrew/Cellar/python@3.9/3.9.7_1/Frameworks/Python.framework/Versions/3.9/lib/python3.9/asyncio/base_events.py\u001b[0m in \u001b[0;36m_check_running\u001b[0;34m(self)\u001b[0m\n\u001b[1;32m    576\u001b[0m     \u001b[0;32mdef\u001b[0m \u001b[0m_check_running\u001b[0m\u001b[0;34m(\u001b[0m\u001b[0mself\u001b[0m\u001b[0;34m)\u001b[0m\u001b[0;34m:\u001b[0m\u001b[0;34m\u001b[0m\u001b[0;34m\u001b[0m\u001b[0m\n\u001b[1;32m    577\u001b[0m         \u001b[0;32mif\u001b[0m \u001b[0mself\u001b[0m\u001b[0;34m.\u001b[0m\u001b[0mis_running\u001b[0m\u001b[0;34m(\u001b[0m\u001b[0;34m)\u001b[0m\u001b[0;34m:\u001b[0m\u001b[0;34m\u001b[0m\u001b[0;34m\u001b[0m\u001b[0m\n\u001b[0;32m--> 578\u001b[0;31m             \u001b[0;32mraise\u001b[0m \u001b[0mRuntimeError\u001b[0m\u001b[0;34m(\u001b[0m\u001b[0;34m'This event loop is already running'\u001b[0m\u001b[0;34m)\u001b[0m\u001b[0;34m\u001b[0m\u001b[0;34m\u001b[0m\u001b[0m\n\u001b[0m\u001b[1;32m    579\u001b[0m         \u001b[0;32mif\u001b[0m \u001b[0mevents\u001b[0m\u001b[0;34m.\u001b[0m\u001b[0m_get_running_loop\u001b[0m\u001b[0;34m(\u001b[0m\u001b[0;34m)\u001b[0m \u001b[0;32mis\u001b[0m \u001b[0;32mnot\u001b[0m \u001b[0;32mNone\u001b[0m\u001b[0;34m:\u001b[0m\u001b[0;34m\u001b[0m\u001b[0;34m\u001b[0m\u001b[0m\n\u001b[1;32m    580\u001b[0m             raise RuntimeError(\n",
      "\u001b[0;31mRuntimeError\u001b[0m: This event loop is already running"
     ]
    }
   ],
   "source": [
    "# 해당 셀의 경우 jupyter 환경에서 실행하면 에러가 발생된다.\n",
    "# IPython 또는 ipykernel의 일부 버전에서 asyncio event loop가 지원되지 않기 때문이다.\n",
    "# 다른 실행환경에서는 문제없이 실행되는 것을 확인할 수 있다.\n",
    "# https://blog.naver.com/PostView.nhn?isHttpsRedirect=true&blogId=jinju2415&logNo=221546342937&categoryNo=45&parentCategoryNo=0&viewDate=&currentPage=1&postListTopCurrentPage=1&from=postView\n",
    "loop = asyncio.get_event_loop()\n",
    "coro = f()\n",
    "\n",
    "loop.run_until_complete(coro)"
   ]
  }
 ],
 "metadata": {
  "kernelspec": {
   "display_name": "Python 3 (ipykernel)",
   "language": "python",
   "name": "python3"
  },
  "language_info": {
   "codemirror_mode": {
    "name": "ipython",
    "version": 3
   },
   "file_extension": ".py",
   "mimetype": "text/x-python",
   "name": "python",
   "nbconvert_exporter": "python",
   "pygments_lexer": "ipython3",
   "version": "3.9.7"
  }
 },
 "nbformat": 4,
 "nbformat_minor": 5
}
